{
  "nbformat": 4,
  "nbformat_minor": 0,
  "metadata": {
    "colab": {
      "provenance": [],
      "authorship_tag": "ABX9TyMX4TEIlfa4x0zuILHbiH/C",
      "include_colab_link": true
    },
    "kernelspec": {
      "name": "python3",
      "display_name": "Python 3"
    },
    "language_info": {
      "name": "python"
    }
  },
  "cells": [
    {
      "cell_type": "markdown",
      "metadata": {
        "id": "view-in-github",
        "colab_type": "text"
      },
      "source": [
        "<a href=\"https://colab.research.google.com/github/JITHENDAR1234/INTERNSHIP/blob/main/project3.ipynb\" target=\"_parent\"><img src=\"https://colab.research.google.com/assets/colab-badge.svg\" alt=\"Open In Colab\"/></a>"
      ]
    },
    {
      "cell_type": "markdown",
      "source": [
        "**HAND WRITTEN DIGIT PREDICTION-CLASSIFICATION ANALYSIS**"
      ],
      "metadata": {
        "id": "yuaGiRqqWKuJ"
      }
    },
    {
      "cell_type": "markdown",
      "source": [
        "**OBJECTIVE:HEAR THE DATE IS TRAIN,TEST AND DATA PREPROSSING HAVE BEEN DONE**"
      ],
      "metadata": {
        "id": "c9SzU3l5WZ9i"
      }
    },
    {
      "cell_type": "markdown",
      "source": [
        "**DATA SOURCE:GET HUB**"
      ],
      "metadata": {
        "id": "Kync1IyzWjSR"
      }
    },
    {
      "cell_type": "markdown",
      "source": [
        "**IMPORT LIBRARY**"
      ],
      "metadata": {
        "id": "Rb2Zqi1VWooX"
      }
    },
    {
      "cell_type": "code",
      "source": [
        "import pandas as pd"
      ],
      "metadata": {
        "id": "rh-rgxe0WLJl"
      },
      "execution_count": 1,
      "outputs": []
    },
    {
      "cell_type": "code",
      "execution_count": 2,
      "metadata": {
        "id": "D5RoUpWAV8Jx"
      },
      "outputs": [],
      "source": [
        "import numpy as np"
      ]
    },
    {
      "cell_type": "code",
      "source": [
        "import matplotlib.pyplot as plt"
      ],
      "metadata": {
        "id": "L9JXR4W7W2G9"
      },
      "execution_count": 3,
      "outputs": []
    },
    {
      "cell_type": "markdown",
      "source": [
        "**IMPORT DATA**"
      ],
      "metadata": {
        "id": "-MItV4RyXGHy"
      }
    },
    {
      "cell_type": "code",
      "source": [
        "from sklearn.datasets import load_digits\n"
      ],
      "metadata": {
        "id": "ktCZilqvW7jM"
      },
      "execution_count": 4,
      "outputs": []
    },
    {
      "cell_type": "code",
      "source": [
        "df=load_digits()"
      ],
      "metadata": {
        "id": "iLt1YR79XRsJ"
      },
      "execution_count": 5,
      "outputs": []
    },
    {
      "cell_type": "code",
      "source": [
        "_, axes= plt.subplots(nrows=1, ncols=4, figsize=(10,3))\n",
        "for axes, image, label in zip(axes, df.images, df.target):\n",
        "  axes.set_axis_off()\n",
        "  axes.imshow(image, cmap=plt.cm.gray_r, interpolation=\"nearest\")\n",
        "  axes.set_title(\"Training: %i\" % label)"
      ],
      "metadata": {
        "colab": {
          "base_uri": "https://localhost:8080/",
          "height": 207
        },
        "id": "0MuOXvVOXU-_",
        "outputId": "5c2ff42f-b3ba-4160-ad50-f106a169b569"
      },
      "execution_count": 60,
      "outputs": [
        {
          "output_type": "display_data",
          "data": {
            "text/plain": [
              "<Figure size 1000x300 with 4 Axes>"
            ],
            "image/png": "[encoded data removed]"
          },
          "metadata": {}
        }
      ]
    },
    {
      "cell_type": "markdown",
      "source": [
        "**DATA PREPROCESSING**"
      ],
      "metadata": {
        "id": "PdjT4lvZZ7Cl"
      }
    },
    {
      "cell_type": "code",
      "source": [
        "df.images.shape"
      ],
      "metadata": {
        "colab": {
          "base_uri": "https://localhost:8080/"
        },
        "id": "eAnR3MvEYC3i",
        "outputId": "530c4d52-6012-44cb-8847-38b7b7035a9a"
      },
      "execution_count": 17,
      "outputs": [
        {
          "output_type": "execute_result",
          "data": {
            "text/plain": [
              "(1797, 8, 8)"
            ]
          },
          "metadata": {},
          "execution_count": 17
        }
      ]
    },
    {
      "cell_type": "code",
      "source": [
        "df.images[0]"
      ],
      "metadata": {
        "colab": {
          "base_uri": "https://localhost:8080/"
        },
        "id": "hlrz1QOQaE0R",
        "outputId": "09e94853-ede6-435b-d844-8874ce078aa4"
      },
      "execution_count": 18,
      "outputs": [
        {
          "output_type": "execute_result",
          "data": {
            "text/plain": [
              "array([[ 0.,  0.,  5., 13.,  9.,  1.,  0.,  0.],\n",
              "       [ 0.,  0., 13., 15., 10., 15.,  5.,  0.],\n",
              "       [ 0.,  3., 15.,  2.,  0., 11.,  8.,  0.],\n",
              "       [ 0.,  4., 12.,  0.,  0.,  8.,  8.,  0.],\n",
              "       [ 0.,  5.,  8.,  0.,  0.,  9.,  8.,  0.],\n",
              "       [ 0.,  4., 11.,  0.,  1., 12.,  7.,  0.],\n",
              "       [ 0.,  2., 14.,  5., 10., 12.,  0.,  0.],\n",
              "       [ 0.,  0.,  6., 13., 10.,  0.,  0.,  0.]])"
            ]
          },
          "metadata": {},
          "execution_count": 18
        }
      ]
    },
    {
      "cell_type": "code",
      "source": [
        "df.images[0].shape"
      ],
      "metadata": {
        "colab": {
          "base_uri": "https://localhost:8080/"
        },
        "id": "NjJG_QLOaM9s",
        "outputId": "1a82e786-0663-4905-fa18-47cfc17ccfea"
      },
      "execution_count": 19,
      "outputs": [
        {
          "output_type": "execute_result",
          "data": {
            "text/plain": [
              "(8, 8)"
            ]
          },
          "metadata": {},
          "execution_count": 19
        }
      ]
    },
    {
      "cell_type": "code",
      "source": [
        "len(df.images)"
      ],
      "metadata": {
        "colab": {
          "base_uri": "https://localhost:8080/"
        },
        "id": "YL6eRTDnaTDZ",
        "outputId": "2eab6b52-1a3c-4381-a77e-82a4321180bf"
      },
      "execution_count": 20,
      "outputs": [
        {
          "output_type": "execute_result",
          "data": {
            "text/plain": [
              "1797"
            ]
          },
          "metadata": {},
          "execution_count": 20
        }
      ]
    },
    {
      "cell_type": "code",
      "source": [
        "n_samples=len(df.images)\n",
        "data=df.images.reshape((n_samples,-1))"
      ],
      "metadata": {
        "id": "klTrXuDYaWKS"
      },
      "execution_count": 22,
      "outputs": []
    },
    {
      "cell_type": "code",
      "source": [
        "data[0]"
      ],
      "metadata": {
        "colab": {
          "base_uri": "https://localhost:8080/"
        },
        "id": "H7hGyEVHajcD",
        "outputId": "5f77bb04-0318-4dfd-b54c-d734128b3d47"
      },
      "execution_count": 23,
      "outputs": [
        {
          "output_type": "execute_result",
          "data": {
            "text/plain": [
              "array([ 0.,  0.,  5., 13.,  9.,  1.,  0.,  0.,  0.,  0., 13., 15., 10.,\n",
              "       15.,  5.,  0.,  0.,  3., 15.,  2.,  0., 11.,  8.,  0.,  0.,  4.,\n",
              "       12.,  0.,  0.,  8.,  8.,  0.,  0.,  5.,  8.,  0.,  0.,  9.,  8.,\n",
              "        0.,  0.,  4., 11.,  0.,  1., 12.,  7.,  0.,  0.,  2., 14.,  5.,\n",
              "       10., 12.,  0.,  0.,  0.,  0.,  6., 13., 10.,  0.,  0.,  0.])"
            ]
          },
          "metadata": {},
          "execution_count": 23
        }
      ]
    },
    {
      "cell_type": "code",
      "source": [
        "data[0].shape"
      ],
      "metadata": {
        "colab": {
          "base_uri": "https://localhost:8080/"
        },
        "id": "tUJg4ccNaom3",
        "outputId": "7e0f3b05-4fbd-47ac-9081-86520f07eae5"
      },
      "execution_count": 24,
      "outputs": [
        {
          "output_type": "execute_result",
          "data": {
            "text/plain": [
              "(64,)"
            ]
          },
          "metadata": {},
          "execution_count": 24
        }
      ]
    },
    {
      "cell_type": "code",
      "source": [
        "data.shape"
      ],
      "metadata": {
        "colab": {
          "base_uri": "https://localhost:8080/"
        },
        "id": "q9N02iEKaq0-",
        "outputId": "9ddad69f-c91a-4d79-ec25-7212764eff30"
      },
      "execution_count": 25,
      "outputs": [
        {
          "output_type": "execute_result",
          "data": {
            "text/plain": [
              "(1797, 64)"
            ]
          },
          "metadata": {},
          "execution_count": 25
        }
      ]
    },
    {
      "cell_type": "markdown",
      "source": [
        "**SCALING IMAGE DATE**"
      ],
      "metadata": {
        "id": "v13FbxNdawR7"
      }
    },
    {
      "cell_type": "code",
      "source": [
        "data.min()"
      ],
      "metadata": {
        "colab": {
          "base_uri": "https://localhost:8080/"
        },
        "id": "FEWFEdo1at1q",
        "outputId": "60f0058b-6052-427d-f6fe-7256467a2bdf"
      },
      "execution_count": 26,
      "outputs": [
        {
          "output_type": "execute_result",
          "data": {
            "text/plain": [
              "0.0"
            ]
          },
          "metadata": {},
          "execution_count": 26
        }
      ]
    },
    {
      "cell_type": "code",
      "source": [
        "data.max()"
      ],
      "metadata": {
        "colab": {
          "base_uri": "https://localhost:8080/"
        },
        "id": "R-HTPvNSa5lO",
        "outputId": "3aa5a49c-fb0c-4ff9-8cef-ef8864170b77"
      },
      "execution_count": 27,
      "outputs": [
        {
          "output_type": "execute_result",
          "data": {
            "text/plain": [
              "16.0"
            ]
          },
          "metadata": {},
          "execution_count": 27
        }
      ]
    },
    {
      "cell_type": "code",
      "source": [
        "data=data/16"
      ],
      "metadata": {
        "id": "I7r43d1Ea7hi"
      },
      "execution_count": 28,
      "outputs": []
    },
    {
      "cell_type": "code",
      "source": [
        "data.min()"
      ],
      "metadata": {
        "colab": {
          "base_uri": "https://localhost:8080/"
        },
        "id": "lR4zzHAia9jy",
        "outputId": "663b6394-46eb-45e8-a8bb-ab46b0cd46ab"
      },
      "execution_count": 29,
      "outputs": [
        {
          "output_type": "execute_result",
          "data": {
            "text/plain": [
              "0.0"
            ]
          },
          "metadata": {},
          "execution_count": 29
        }
      ]
    },
    {
      "cell_type": "code",
      "source": [
        "data.max()"
      ],
      "metadata": {
        "colab": {
          "base_uri": "https://localhost:8080/"
        },
        "id": "TkcMz7IHa_4P",
        "outputId": "c66f57d0-c25c-4d1a-c177-4f66672be8b0"
      },
      "execution_count": 30,
      "outputs": [
        {
          "output_type": "execute_result",
          "data": {
            "text/plain": [
              "1.0"
            ]
          },
          "metadata": {},
          "execution_count": 30
        }
      ]
    },
    {
      "cell_type": "code",
      "source": [
        "data[0]"
      ],
      "metadata": {
        "colab": {
          "base_uri": "https://localhost:8080/"
        },
        "id": "q3BfMJQKbBhT",
        "outputId": "c5bd91fc-9b5e-4639-89ed-7e0ef7134067"
      },
      "execution_count": 31,
      "outputs": [
        {
          "output_type": "execute_result",
          "data": {
            "text/plain": [
              "array([0.    , 0.    , 0.3125, 0.8125, 0.5625, 0.0625, 0.    , 0.    ,\n",
              "       0.    , 0.    , 0.8125, 0.9375, 0.625 , 0.9375, 0.3125, 0.    ,\n",
              "       0.    , 0.1875, 0.9375, 0.125 , 0.    , 0.6875, 0.5   , 0.    ,\n",
              "       0.    , 0.25  , 0.75  , 0.    , 0.    , 0.5   , 0.5   , 0.    ,\n",
              "       0.    , 0.3125, 0.5   , 0.    , 0.    , 0.5625, 0.5   , 0.    ,\n",
              "       0.    , 0.25  , 0.6875, 0.    , 0.0625, 0.75  , 0.4375, 0.    ,\n",
              "       0.    , 0.125 , 0.875 , 0.3125, 0.625 , 0.75  , 0.    , 0.    ,\n",
              "       0.    , 0.    , 0.375 , 0.8125, 0.625 , 0.    , 0.    , 0.    ])"
            ]
          },
          "metadata": {},
          "execution_count": 31
        }
      ]
    },
    {
      "cell_type": "markdown",
      "source": [
        "**TRAIN TEST SPLIT DATA**"
      ],
      "metadata": {
        "id": "7bObICQTbHBR"
      }
    },
    {
      "cell_type": "code",
      "source": [
        "from sklearn.model_selection import train_test_split\n"
      ],
      "metadata": {
        "id": "nSpmz4iZbDdv"
      },
      "execution_count": 32,
      "outputs": []
    },
    {
      "cell_type": "code",
      "source": [
        "x_train,x_test,y_train,y_test=train_test_split(data,df.target,test_size=0.3)"
      ],
      "metadata": {
        "id": "jhubz0PIbanR"
      },
      "execution_count": 36,
      "outputs": []
    },
    {
      "cell_type": "code",
      "source": [
        "x_train,x_test,y_train,y_test"
      ],
      "metadata": {
        "colab": {
          "base_uri": "https://localhost:8080/"
        },
        "id": "IKnYtUhqbfAO",
        "outputId": "236d150b-dc28-48c1-9e68-25b4bb99b5ef"
      },
      "execution_count": 37,
      "outputs": [
        {
          "output_type": "execute_result",
          "data": {
            "text/plain": [
              "(array([[0.    , 0.    , 0.375 , ..., 0.9375, 0.375 , 0.    ],\n",
              "        [0.    , 0.    , 0.    , ..., 0.4375, 0.    , 0.    ],\n",
              "        [0.    , 0.    , 0.0625, ..., 0.875 , 1.    , 0.4375],\n",
              "        ...,\n",
              "        [0.    , 0.    , 0.0625, ..., 0.75  , 0.125 , 0.    ],\n",
              "        [0.    , 0.    , 0.1875, ..., 0.0625, 0.    , 0.    ],\n",
              "        [0.    , 0.    , 0.    , ..., 0.    , 0.    , 0.    ]]),\n",
              " array([[0.    , 0.1875, 0.9375, ..., 0.5   , 0.1875, 0.    ],\n",
              "        [0.    , 0.    , 0.    , ..., 0.6875, 0.1875, 0.    ],\n",
              "        [0.    , 0.    , 0.    , ..., 0.    , 0.    , 0.    ],\n",
              "        ...,\n",
              "        [0.    , 0.0625, 0.75  , ..., 0.75  , 0.0625, 0.    ],\n",
              "        [0.    , 0.    , 0.9375, ..., 0.375 , 0.125 , 0.    ],\n",
              "        [0.    , 0.    , 0.125 , ..., 0.    , 0.    , 0.    ]]),\n",
              " array([3, 4, 2, ..., 8, 5, 4]),\n",
              " array([2, 6, 4, 9, 3, 6, 3, 1, 1, 6, 3, 8, 2, 5, 2, 5, 4, 4, 6, 4, 8, 0,\n",
              "        3, 1, 4, 0, 5, 8, 2, 2, 3, 0, 9, 1, 5, 2, 1, 4, 0, 2, 9, 5, 3, 3,\n",
              "        2, 4, 1, 1, 0, 2, 1, 0, 7, 7, 4, 8, 9, 9, 0, 8, 8, 4, 3, 0, 1, 6,\n",
              "        8, 4, 1, 3, 9, 4, 5, 7, 6, 8, 1, 8, 0, 0, 8, 8, 5, 2, 7, 5, 1, 1,\n",
              "        6, 4, 4, 5, 5, 6, 4, 1, 2, 5, 3, 7, 1, 7, 7, 1, 2, 9, 0, 6, 5, 3,\n",
              "        1, 8, 1, 9, 9, 8, 5, 5, 9, 6, 0, 9, 0, 8, 4, 3, 5, 0, 5, 6, 0, 2,\n",
              "        9, 3, 8, 4, 3, 5, 4, 4, 7, 1, 7, 9, 0, 6, 2, 6, 0, 5, 4, 7, 6, 7,\n",
              "        9, 4, 4, 9, 4, 8, 1, 2, 4, 0, 7, 7, 8, 6, 7, 3, 4, 5, 2, 5, 8, 1,\n",
              "        7, 0, 3, 4, 4, 6, 3, 5, 1, 7, 1, 8, 5, 2, 7, 7, 7, 9, 9, 1, 3, 3,\n",
              "        7, 7, 6, 5, 7, 0, 0, 2, 3, 2, 1, 7, 6, 3, 2, 2, 2, 5, 1, 2, 5, 1,\n",
              "        1, 9, 2, 6, 0, 2, 4, 8, 8, 4, 5, 0, 9, 1, 8, 2, 7, 6, 0, 2, 8, 9,\n",
              "        6, 1, 4, 3, 3, 0, 3, 8, 7, 9, 8, 1, 2, 8, 8, 6, 8, 1, 7, 5, 9, 9,\n",
              "        9, 5, 7, 0, 5, 5, 4, 0, 7, 2, 9, 2, 7, 1, 2, 0, 6, 9, 3, 0, 4, 5,\n",
              "        8, 3, 2, 7, 3, 5, 2, 3, 3, 9, 3, 5, 6, 3, 6, 3, 0, 9, 3, 7, 9, 7,\n",
              "        9, 8, 4, 2, 3, 6, 0, 7, 3, 1, 2, 5, 7, 3, 5, 4, 4, 8, 1, 0, 0, 4,\n",
              "        2, 8, 1, 7, 7, 2, 7, 5, 5, 9, 1, 6, 3, 5, 1, 4, 4, 9, 5, 1, 2, 3,\n",
              "        5, 4, 3, 3, 8, 6, 8, 3, 3, 5, 9, 0, 6, 3, 6, 5, 0, 2, 8, 7, 3, 3,\n",
              "        4, 2, 6, 2, 6, 4, 0, 6, 4, 4, 2, 1, 6, 2, 4, 2, 4, 2, 8, 8, 9, 8,\n",
              "        9, 3, 8, 4, 3, 8, 7, 2, 6, 6, 7, 8, 4, 9, 4, 0, 2, 7, 0, 5, 1, 3,\n",
              "        9, 0, 5, 1, 4, 4, 0, 3, 3, 1, 5, 0, 1, 7, 6, 8, 5, 0, 1, 2, 5, 7,\n",
              "        1, 6, 4, 7, 2, 2, 2, 3, 5, 9, 9, 8, 8, 6, 2, 7, 2, 6, 4, 8, 8, 5,\n",
              "        8, 8, 4, 9, 8, 7, 1, 4, 7, 2, 9, 6, 2, 2, 5, 1, 6, 4, 3, 2, 7, 4,\n",
              "        9, 6, 3, 7, 7, 6, 2, 6, 2, 3, 0, 4, 4, 3, 7, 3, 7, 5, 2, 4, 0, 8,\n",
              "        4, 9, 4, 1, 0, 4, 0, 1, 3, 3, 4, 3, 0, 7, 2, 0, 8, 5, 7, 5, 9, 2,\n",
              "        9, 1, 0, 2, 9, 4, 2, 6, 1, 3, 2, 5]))"
            ]
          },
          "metadata": {},
          "execution_count": 37
        }
      ]
    },
    {
      "cell_type": "code",
      "source": [
        "x_train.shape,x_test.shape,y_train.shape,y_test.shape"
      ],
      "metadata": {
        "colab": {
          "base_uri": "https://localhost:8080/"
        },
        "id": "9ABNDmy4b_0O",
        "outputId": "3a8ee0f7-ba32-40d8-877d-6a0add087169"
      },
      "execution_count": 38,
      "outputs": [
        {
          "output_type": "execute_result",
          "data": {
            "text/plain": [
              "((1257, 64), (540, 64), (1257,), (540,))"
            ]
          },
          "metadata": {},
          "execution_count": 38
        }
      ]
    },
    {
      "cell_type": "markdown",
      "source": [
        "**RANDOM FOREST MODEL**"
      ],
      "metadata": {
        "id": "QIRIuRRwcHdN"
      }
    },
    {
      "cell_type": "code",
      "source": [
        "from sklearn.ensemble import RandomForestClassifier"
      ],
      "metadata": {
        "id": "vpid5UtfcGQW"
      },
      "execution_count": 40,
      "outputs": []
    },
    {
      "cell_type": "code",
      "source": [
        "rf= RandomForestClassifier()"
      ],
      "metadata": {
        "id": "vjmTrWEAcX6r"
      },
      "execution_count": 41,
      "outputs": []
    },
    {
      "cell_type": "code",
      "source": [
        "rf.fit(x_train,y_train)"
      ],
      "metadata": {
        "colab": {
          "base_uri": "https://localhost:8080/",
          "height": 74
        },
        "id": "ifREyAmacfgk",
        "outputId": "a7023bda-c7c2-4382-f486-4cf9862cd954"
      },
      "execution_count": 43,
      "outputs": [
        {
          "output_type": "execute_result",
          "data": {
            "text/plain": [
              "RandomForestClassifier()"
            ],
            "text/html": [
              "<style>#sk-container-id-1 {color: black;background-color: white;}#sk-container-id-1 pre{padding: 0;}#sk-container-id-1 div.sk-toggleable {background-color: white;}#sk-container-id-1 label.sk-toggleable__label {cursor: pointer;display: block;width: 100%;margin-bottom: 0;padding: 0.3em;box-sizing: border-box;text-align: center;}#sk-container-id-1 label.sk-toggleable__label-arrow:before {content: \"▸\";float: left;margin-right: 0.25em;color: #696969;}#sk-container-id-1 label.sk-toggleable__label-arrow:hover:before {color: black;}#sk-container-id-1 div.sk-estimator:hover label.sk-toggleable__label-arrow:before {color: black;}#sk-container-id-1 div.sk-toggleable__content {max-height: 0;max-width: 0;overflow: hidden;text-align: left;background-color: #f0f8ff;}#sk-container-id-1 div.sk-toggleable__content pre {margin: 0.2em;color: black;border-radius: 0.25em;background-color: #f0f8ff;}#sk-container-id-1 input.sk-toggleable__control:checked~div.sk-toggleable__content {max-height: 200px;max-width: 100%;overflow: auto;}#sk-container-id-1 input.sk-toggleable__control:checked~label.sk-toggleable__label-arrow:before {content: \"▾\";}#sk-container-id-1 div.sk-estimator input.sk-toggleable__control:checked~label.sk-toggleable__label {background-color: #d4ebff;}#sk-container-id-1 div.sk-label input.sk-toggleable__control:checked~label.sk-toggleable__label {background-color: #d4ebff;}#sk-container-id-1 input.sk-hidden--visually {border: 0;clip: rect(1px 1px 1px 1px);clip: rect(1px, 1px, 1px, 1px);height: 1px;margin: -1px;overflow: hidden;padding: 0;position: absolute;width: 1px;}#sk-container-id-1 div.sk-estimator {font-family: monospace;background-color: #f0f8ff;border: 1px dotted black;border-radius: 0.25em;box-sizing: border-box;margin-bottom: 0.5em;}#sk-container-id-1 div.sk-estimator:hover {background-color: #d4ebff;}#sk-container-id-1 div.sk-parallel-item::after {content: \"\";width: 100%;border-bottom: 1px solid gray;flex-grow: 1;}#sk-container-id-1 div.sk-label:hover label.sk-toggleable__label {background-color: #d4ebff;}#sk-container-id-1 div.sk-serial::before {content: \"\";position: absolute;border-left: 1px solid gray;box-sizing: border-box;top: 0;bottom: 0;left: 50%;z-index: 0;}#sk-container-id-1 div.sk-serial {display: flex;flex-direction: column;align-items: center;background-color: white;padding-right: 0.2em;padding-left: 0.2em;position: relative;}#sk-container-id-1 div.sk-item {position: relative;z-index: 1;}#sk-container-id-1 div.sk-parallel {display: flex;align-items: stretch;justify-content: center;background-color: white;position: relative;}#sk-container-id-1 div.sk-item::before, #sk-container-id-1 div.sk-parallel-item::before {content: \"\";position: absolute;border-left: 1px solid gray;box-sizing: border-box;top: 0;bottom: 0;left: 50%;z-index: -1;}#sk-container-id-1 div.sk-parallel-item {display: flex;flex-direction: column;z-index: 1;position: relative;background-color: white;}#sk-container-id-1 div.sk-parallel-item:first-child::after {align-self: flex-end;width: 50%;}#sk-container-id-1 div.sk-parallel-item:last-child::after {align-self: flex-start;width: 50%;}#sk-container-id-1 div.sk-parallel-item:only-child::after {width: 0;}#sk-container-id-1 div.sk-dashed-wrapped {border: 1px dashed gray;margin: 0 0.4em 0.5em 0.4em;box-sizing: border-box;padding-bottom: 0.4em;background-color: white;}#sk-container-id-1 div.sk-label label {font-family: monospace;font-weight: bold;display: inline-block;line-height: 1.2em;}#sk-container-id-1 div.sk-label-container {text-align: center;}#sk-container-id-1 div.sk-container {/* jupyter's `normalize.less` sets `[hidden] { display: none; }` but bootstrap.min.css set `[hidden] { display: none !important; }` so we also need the `!important` here to be able to override the default hidden behavior on the sphinx rendered scikit-learn.org. See: https://github.com/scikit-learn/scikit-learn/issues/21755 */display: inline-block !important;position: relative;}#sk-container-id-1 div.sk-text-repr-fallback {display: none;}</style><div id=\"sk-container-id-1\" class=\"sk-top-container\"><div class=\"sk-text-repr-fallback\"><pre>RandomForestClassifier()</pre><b>In a Jupyter environment, please rerun this cell to show the HTML representation or trust the notebook. <br />On GitHub, the HTML representation is unable to render, please try loading this page with nbviewer.org.</b></div><div class=\"sk-container\" hidden><div class=\"sk-item\"><div class=\"sk-estimator sk-toggleable\"><input class=\"sk-toggleable__control sk-hidden--visually\" id=\"sk-estimator-id-1\" type=\"checkbox\" checked><label for=\"sk-estimator-id-1\" class=\"sk-toggleable__label sk-toggleable__label-arrow\">RandomForestClassifier</label><div class=\"sk-toggleable__content\"><pre>RandomForestClassifier()</pre></div></div></div></div></div>"
            ]
          },
          "metadata": {},
          "execution_count": 43
        }
      ]
    },
    {
      "cell_type": "markdown",
      "source": [
        "**PREDICT TEST DATA**"
      ],
      "metadata": {
        "id": "rtZKLy6bcpcD"
      }
    },
    {
      "cell_type": "code",
      "source": [
        "y_pred=rf.predict(x_test)"
      ],
      "metadata": {
        "id": "zrRaRkhZclxi"
      },
      "execution_count": 44,
      "outputs": []
    },
    {
      "cell_type": "code",
      "source": [
        "y_pred"
      ],
      "metadata": {
        "colab": {
          "base_uri": "https://localhost:8080/"
        },
        "id": "wEJbId_ac1EF",
        "outputId": "b55704e9-7e7e-4128-b71c-3ce51401a25c"
      },
      "execution_count": 45,
      "outputs": [
        {
          "output_type": "execute_result",
          "data": {
            "text/plain": [
              "array([2, 6, 4, 9, 3, 6, 3, 1, 1, 6, 3, 8, 2, 5, 2, 5, 4, 4, 6, 4, 8, 0,\n",
              "       3, 1, 4, 0, 5, 8, 2, 2, 3, 0, 9, 1, 5, 2, 1, 4, 0, 2, 9, 5, 3, 3,\n",
              "       2, 4, 1, 1, 0, 2, 1, 0, 7, 7, 4, 8, 9, 9, 0, 8, 8, 4, 3, 0, 1, 6,\n",
              "       8, 4, 1, 3, 9, 4, 5, 7, 6, 8, 1, 8, 0, 0, 8, 8, 5, 2, 7, 5, 1, 1,\n",
              "       6, 4, 4, 5, 5, 6, 4, 1, 2, 5, 3, 7, 1, 7, 7, 1, 2, 9, 0, 6, 5, 3,\n",
              "       1, 8, 1, 9, 9, 8, 5, 5, 9, 6, 0, 9, 0, 8, 4, 3, 9, 0, 5, 6, 0, 2,\n",
              "       9, 3, 8, 4, 3, 5, 4, 4, 7, 1, 7, 9, 0, 6, 2, 6, 0, 5, 9, 7, 6, 7,\n",
              "       9, 4, 4, 9, 4, 8, 1, 2, 4, 0, 7, 7, 8, 6, 7, 3, 4, 5, 2, 5, 8, 1,\n",
              "       7, 0, 3, 4, 4, 6, 3, 5, 1, 7, 1, 8, 5, 2, 7, 7, 7, 9, 9, 1, 3, 3,\n",
              "       7, 7, 6, 5, 7, 0, 0, 2, 3, 2, 1, 7, 6, 3, 2, 2, 2, 6, 1, 2, 5, 1,\n",
              "       1, 9, 2, 6, 0, 2, 4, 8, 8, 4, 5, 0, 9, 1, 8, 2, 7, 6, 0, 2, 8, 9,\n",
              "       6, 1, 4, 7, 3, 4, 3, 8, 7, 9, 8, 1, 2, 8, 8, 6, 8, 1, 7, 5, 9, 9,\n",
              "       9, 5, 7, 0, 5, 5, 4, 0, 7, 2, 9, 2, 7, 1, 2, 0, 6, 9, 3, 0, 4, 5,\n",
              "       8, 3, 2, 7, 3, 5, 2, 3, 3, 9, 3, 5, 6, 3, 6, 3, 0, 9, 3, 7, 9, 7,\n",
              "       9, 8, 4, 2, 3, 6, 0, 7, 0, 1, 2, 5, 7, 3, 5, 4, 4, 8, 1, 0, 0, 4,\n",
              "       2, 8, 1, 7, 7, 2, 7, 5, 5, 9, 1, 6, 3, 5, 1, 4, 7, 9, 5, 1, 2, 3,\n",
              "       5, 4, 3, 3, 8, 6, 8, 3, 3, 5, 9, 0, 6, 3, 6, 5, 0, 2, 8, 7, 3, 3,\n",
              "       4, 2, 6, 2, 6, 4, 0, 6, 4, 4, 2, 1, 6, 2, 4, 2, 4, 2, 8, 8, 9, 8,\n",
              "       9, 3, 8, 4, 3, 8, 7, 2, 6, 6, 7, 8, 4, 9, 4, 0, 2, 7, 0, 5, 1, 3,\n",
              "       9, 0, 5, 1, 4, 4, 0, 3, 3, 1, 5, 0, 1, 7, 6, 8, 5, 0, 1, 2, 5, 7,\n",
              "       1, 6, 4, 7, 2, 2, 2, 3, 5, 9, 9, 8, 8, 6, 2, 7, 2, 6, 4, 8, 8, 5,\n",
              "       8, 8, 4, 9, 8, 7, 1, 4, 7, 2, 9, 6, 2, 2, 5, 5, 6, 4, 3, 2, 7, 4,\n",
              "       9, 6, 3, 7, 7, 6, 2, 6, 2, 3, 0, 4, 4, 3, 7, 3, 7, 5, 2, 4, 0, 8,\n",
              "       4, 9, 4, 1, 0, 4, 0, 1, 3, 3, 4, 3, 0, 7, 2, 0, 8, 5, 7, 5, 9, 2,\n",
              "       9, 1, 0, 2, 9, 4, 2, 6, 1, 3, 2, 4])"
            ]
          },
          "metadata": {},
          "execution_count": 45
        }
      ]
    },
    {
      "cell_type": "markdown",
      "source": [
        "**MODEL ACCURACY**"
      ],
      "metadata": {
        "id": "tFoYQDdFdkEi"
      }
    },
    {
      "cell_type": "code",
      "source": [
        "from sklearn.metrics import confusion_matrix,classification_report"
      ],
      "metadata": {
        "id": "sAFR5Lrnc2o9"
      },
      "execution_count": 48,
      "outputs": []
    },
    {
      "cell_type": "code",
      "source": [
        "confusion_matrix(y_test,y_pred)"
      ],
      "metadata": {
        "colab": {
          "base_uri": "https://localhost:8080/"
        },
        "id": "YmXmUvYzd3--",
        "outputId": "2d566881-2f4c-453e-df56-d5323b606068"
      },
      "execution_count": 49,
      "outputs": [
        {
          "output_type": "execute_result",
          "data": {
            "text/plain": [
              "array([[48,  0,  0,  0,  1,  0,  0,  0,  0,  0],\n",
              "       [ 0, 51,  0,  0,  0,  1,  0,  0,  0,  0],\n",
              "       [ 0,  0, 65,  0,  0,  0,  0,  0,  0,  0],\n",
              "       [ 1,  0,  0, 58,  0,  0,  0,  1,  0,  0],\n",
              "       [ 0,  0,  0,  0, 61,  0,  0,  1,  0,  1],\n",
              "       [ 0,  0,  0,  0,  1, 51,  1,  0,  0,  1],\n",
              "       [ 0,  0,  0,  0,  0,  0, 46,  0,  0,  0],\n",
              "       [ 0,  0,  0,  0,  0,  0,  0, 54,  0,  0],\n",
              "       [ 0,  0,  0,  0,  0,  0,  0,  0, 51,  0],\n",
              "       [ 0,  0,  0,  0,  0,  0,  0,  0,  0, 46]])"
            ]
          },
          "metadata": {},
          "execution_count": 49
        }
      ]
    },
    {
      "cell_type": "code",
      "source": [
        "classification_report(y_test,y_pred)"
      ],
      "metadata": {
        "colab": {
          "base_uri": "https://localhost:8080/",
          "height": 174
        },
        "id": "mTPW5OoKeACj",
        "outputId": "7dbe1ee0-bea3-4a1e-cafb-3c6ae149f9ef"
      },
      "execution_count": 50,
      "outputs": [
        {
          "output_type": "execute_result",
          "data": {
            "text/plain": [
              "'              precision    recall  f1-score   support\\n\\n           0       0.98      0.98      0.98        49\\n           1       1.00      0.98      0.99        52\\n           2       1.00      1.00      1.00        65\\n           3       1.00      0.97      0.98        60\\n           4       0.97      0.97      0.97        63\\n           5       0.98      0.94      0.96        54\\n           6       0.98      1.00      0.99        46\\n           7       0.96      1.00      0.98        54\\n           8       1.00      1.00      1.00        51\\n           9       0.96      1.00      0.98        46\\n\\n    accuracy                           0.98       540\\n   macro avg       0.98      0.98      0.98       540\\nweighted avg       0.98      0.98      0.98       540\\n'"
            ],
            "application/vnd.google.colaboratory.intrinsic+json": {
              "type": "string"
            }
          },
          "metadata": {},
          "execution_count": 50
        }
      ]
    },
    {
      "cell_type": "markdown",
      "source": [
        "**EXPLAINATION**"
      ],
      "metadata": {
        "id": "5-angQ8teKrU"
      }
    },
    {
      "cell_type": "code",
      "source": [
        "#step1:import library\n",
        "#step2:import data\n",
        "#step3: define y and x\n",
        "#step4|: split\n",
        "#step5:select a model\n",
        "#step6:train model\n",
        "#step7:predict"
      ],
      "metadata": {
        "id": "nRilUpvKeGf8"
      },
      "execution_count": 51,
      "outputs": []
    }
  ]
}